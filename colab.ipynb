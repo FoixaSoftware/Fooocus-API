{
  "nbformat": 4,
  "nbformat_minor": 0,
  "metadata": {
    "colab": {
      "private_outputs": true,
      "provenance": [],
      "gpuType": "T4"
    },
    "kernelspec": {
      "name": "python3",
      "display_name": "Python 3"
    },
    "language_info": {
      "name": "python"
    },
    "accelerator": "GPU"
  },
  "cells": [
    {
      "cell_type": "code",
      "execution_count": null,
      "metadata": {
        "id": "Y3_LyryPjYNB"
      },
      "outputs": [],
      "source": [
        "%cd /content\n",
        "!git clone -b colab https://github.com/konieshadow/Fooocus-API"
      ]
    },
    {
      "cell_type": "code",
      "source": [
        "%cd /content/Fooocus-API\n",
        "!git pull origin colab\n",
        "!pip install -r requirements.txt\n",
        "!pip install torch==2.0.1 torchvision==0.15.2 --extra-index-url https://download.pytorch.org/whl/cu118 xformers"
      ],
      "metadata": {
        "id": "ZmeU8_76tuFa"
      },
      "execution_count": null,
      "outputs": []
    },
    {
      "cell_type": "code",
      "source": [
        "%cd /content\n",
        "!wget https://github.com/ekzhang/bore/releases/download/v0.5.0/bore-v0.5.0-x86_64-unknown-linux-musl.tar.gz\n",
        "!tar -zxvf bore-v0.5.0-x86_64-unknown-linux-musl.tar.gz\n",
        "!chmod +x bore"
      ],
      "metadata": {
        "id": "eNsYjwFCjgju"
      },
      "execution_count": null,
      "outputs": []
    },
    {
      "cell_type": "code",
      "source": [
        "%cd /content/Fooocus-API\n",
        "from main import pre_setup\n",
        "pre_setup(load_all_models=False)"
      ],
      "metadata": {
        "id": "8GcxyUf5mnn-"
      },
      "execution_count": null,
      "outputs": []
    },
    {
      "cell_type": "code",
      "source": [
        "# Preload pipeline before start http server\n",
        "# Open url in new tab from output \"listening at bore.pub:xxxx\" after you see \"Uvicorn running on http://127.0.0.1:8888\"\n",
        "!python main.py --sync-repo skip --preload-pipeline & /content/bore local 8888 --to bore.pub"
      ],
      "metadata": {
        "id": "KI_nBjx0jc-2"
      },
      "execution_count": null,
      "outputs": []
    }
  ]
}