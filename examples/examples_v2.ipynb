{
 "cells": [
  {
   "cell_type": "code",
   "execution_count": null,
   "metadata": {},
   "outputs": [],
   "source": [
    "import requests\n",
    "import json\n",
    "import base64\n",
    "\n",
    "\n",
    "# upscale or vary v2 Interface example\n",
    "host = \"http://127.0.0.1:8888\"\n",
    "image = open(\"./imgs/bear.jpg\", \"rb\").read()\n",
    "\n",
    "def upscale_vary(params: dict) -> dict:\n",
    "    \"\"\"\n",
    "    Upscale or Vary\n",
    "    \"\"\"\n",
    "    response = requests.post(url=f\"{host}/v2/generation/image-upscale-vary\",\n",
    "                        data=json.dumps(params),\n",
    "                        headers={\"Content-Type\": \"application/json\"},\n",
    "                        timeout=300)\n",
    "    return response.json()\n",
    "\n",
    "result =upscale_vary(params={\n",
    "                         \"input_image\": base64.b64encode(image).decode('utf-8'),\n",
    "                         \"uov_method\": \"Upscale (2x)\",\n",
    "                         \"async_process\": True\n",
    "                     })\n",
    "print(json.dumps(result, indent=4, ensure_ascii=False))"
   ]
  }
 ],
 "metadata": {
  "language_info": {
   "name": "python"
  }
 },
 "nbformat": 4,
 "nbformat_minor": 2
}
